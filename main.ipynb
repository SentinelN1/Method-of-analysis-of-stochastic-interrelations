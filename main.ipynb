{
 "cells": [
  {
   "cell_type": "code",
   "execution_count": 90,
   "metadata": {},
   "outputs": [],
   "source": [
    "import numpy as np\n",
    "from scipy import stats\n",
    "import matplotlib.pyplot as plt\n",
    "\n",
    "import os\n",
    "import pandas as pd\n",
    "import seaborn as sns"
   ]
  },
  {
   "cell_type": "code",
   "execution_count": 38,
   "metadata": {},
   "outputs": [],
   "source": [
    "DATASETS = './datasets/'"
   ]
  },
  {
   "cell_type": "code",
   "execution_count": 39,
   "metadata": {},
   "outputs": [],
   "source": [
    "tickets = pd.read_json(os.path.join(DATASETS, \"tickets.json\"))"
   ]
  },
  {
   "cell_type": "code",
   "execution_count": 40,
   "metadata": {},
   "outputs": [
    {
     "data": {
      "text/html": [
       "<div>\n",
       "<style scoped>\n",
       "    .dataframe tbody tr th:only-of-type {\n",
       "        vertical-align: middle;\n",
       "    }\n",
       "\n",
       "    .dataframe tbody tr th {\n",
       "        vertical-align: top;\n",
       "    }\n",
       "\n",
       "    .dataframe thead th {\n",
       "        text-align: right;\n",
       "    }\n",
       "</style>\n",
       "<table border=\"1\" class=\"dataframe\">\n",
       "  <thead>\n",
       "    <tr style=\"text-align: right;\">\n",
       "      <th></th>\n",
       "      <th>value</th>\n",
       "      <th>trip_class</th>\n",
       "      <th>origin</th>\n",
       "      <th>number_of_changes</th>\n",
       "      <th>found_at</th>\n",
       "      <th>destination</th>\n",
       "      <th>depart_date</th>\n",
       "      <th>airline</th>\n",
       "      <th>search_date</th>\n",
       "    </tr>\n",
       "  </thead>\n",
       "  <tbody>\n",
       "    <tr>\n",
       "      <th>0</th>\n",
       "      <td>43270</td>\n",
       "      <td>0</td>\n",
       "      <td>MOW</td>\n",
       "      <td>2.0</td>\n",
       "      <td>2022-03-30 14:54:04</td>\n",
       "      <td>SYZ</td>\n",
       "      <td>2022-04-21</td>\n",
       "      <td>TK</td>\n",
       "      <td>2022-04-02</td>\n",
       "    </tr>\n",
       "    <tr>\n",
       "      <th>1</th>\n",
       "      <td>28166</td>\n",
       "      <td>0</td>\n",
       "      <td>MOW</td>\n",
       "      <td>3.0</td>\n",
       "      <td>2022-04-02 08:08:06</td>\n",
       "      <td>SPU</td>\n",
       "      <td>2022-04-25</td>\n",
       "      <td>W6</td>\n",
       "      <td>2022-04-02</td>\n",
       "    </tr>\n",
       "    <tr>\n",
       "      <th>2</th>\n",
       "      <td>24159</td>\n",
       "      <td>0</td>\n",
       "      <td>MOW</td>\n",
       "      <td>2.0</td>\n",
       "      <td>2022-04-01 09:23:26</td>\n",
       "      <td>SZF</td>\n",
       "      <td>2022-04-14</td>\n",
       "      <td>TK</td>\n",
       "      <td>2022-04-02</td>\n",
       "    </tr>\n",
       "    <tr>\n",
       "      <th>3</th>\n",
       "      <td>11160</td>\n",
       "      <td>0</td>\n",
       "      <td>MOW</td>\n",
       "      <td>1.0</td>\n",
       "      <td>2022-04-02 12:09:50</td>\n",
       "      <td>ABA</td>\n",
       "      <td>2022-04-12</td>\n",
       "      <td>S7</td>\n",
       "      <td>2022-04-02</td>\n",
       "    </tr>\n",
       "    <tr>\n",
       "      <th>4</th>\n",
       "      <td>19920</td>\n",
       "      <td>0</td>\n",
       "      <td>MOW</td>\n",
       "      <td>1.0</td>\n",
       "      <td>2022-04-02 12:44:34</td>\n",
       "      <td>CAI</td>\n",
       "      <td>2022-04-14</td>\n",
       "      <td>SU</td>\n",
       "      <td>2022-04-02</td>\n",
       "    </tr>\n",
       "  </tbody>\n",
       "</table>\n",
       "</div>"
      ],
      "text/plain": [
       "   value  trip_class origin  number_of_changes            found_at  \\\n",
       "0  43270           0    MOW                2.0 2022-03-30 14:54:04   \n",
       "1  28166           0    MOW                3.0 2022-04-02 08:08:06   \n",
       "2  24159           0    MOW                2.0 2022-04-01 09:23:26   \n",
       "3  11160           0    MOW                1.0 2022-04-02 12:09:50   \n",
       "4  19920           0    MOW                1.0 2022-04-02 12:44:34   \n",
       "\n",
       "  destination depart_date airline search_date  \n",
       "0         SYZ  2022-04-21      TK  2022-04-02  \n",
       "1         SPU  2022-04-25      W6  2022-04-02  \n",
       "2         SZF  2022-04-14      TK  2022-04-02  \n",
       "3         ABA  2022-04-12      S7  2022-04-02  \n",
       "4         CAI  2022-04-14      SU  2022-04-02  "
      ]
     },
     "execution_count": 40,
     "metadata": {},
     "output_type": "execute_result"
    }
   ],
   "source": [
    "tickets.head()"
   ]
  },
  {
   "cell_type": "code",
   "execution_count": 41,
   "metadata": {},
   "outputs": [],
   "source": [
    "tickets.drop(columns=['trip_class'], inplace=True)"
   ]
  },
  {
   "cell_type": "code",
   "execution_count": 42,
   "metadata": {},
   "outputs": [
    {
     "data": {
      "text/plain": [
       "value                    0\n",
       "origin                   0\n",
       "number_of_changes    18148\n",
       "found_at                 0\n",
       "destination              0\n",
       "depart_date              0\n",
       "airline                  0\n",
       "search_date              0\n",
       "dtype: int64"
      ]
     },
     "execution_count": 42,
     "metadata": {},
     "output_type": "execute_result"
    }
   ],
   "source": [
    "tickets.isna().sum()"
   ]
  },
  {
   "cell_type": "code",
   "execution_count": 43,
   "metadata": {},
   "outputs": [],
   "source": [
    "tickets[\"number_of_changes\"] = tickets[\"number_of_changes\"].fillna(value=0)"
   ]
  },
  {
   "cell_type": "code",
   "execution_count": 44,
   "metadata": {},
   "outputs": [
    {
     "data": {
      "text/plain": [
       "np.int64(0)"
      ]
     },
     "execution_count": 44,
     "metadata": {},
     "output_type": "execute_result"
    }
   ],
   "source": [
    "tickets[\"number_of_changes\"].isna().sum()"
   ]
  },
  {
   "cell_type": "code",
   "execution_count": 45,
   "metadata": {},
   "outputs": [],
   "source": [
    "tickets = tickets.astype(dtype={\n",
    "    \"number_of_changes\" : \"int64\", \n",
    "    \"depart_date\" : \"datetime64[ns]\", \n",
    "    \"search_date\" : \"datetime64[ns]\", \n",
    "})"
   ]
  },
  {
   "cell_type": "code",
   "execution_count": 46,
   "metadata": {},
   "outputs": [
    {
     "data": {
      "text/plain": [
       "value                         int64\n",
       "origin                       object\n",
       "number_of_changes             int64\n",
       "found_at             datetime64[ns]\n",
       "destination                  object\n",
       "depart_date          datetime64[ns]\n",
       "airline                      object\n",
       "search_date          datetime64[ns]\n",
       "dtype: object"
      ]
     },
     "execution_count": 46,
     "metadata": {},
     "output_type": "execute_result"
    }
   ],
   "source": [
    "tickets.dtypes"
   ]
  },
  {
   "cell_type": "code",
   "execution_count": 47,
   "metadata": {},
   "outputs": [
    {
     "data": {
      "text/html": [
       "<div>\n",
       "<style scoped>\n",
       "    .dataframe tbody tr th:only-of-type {\n",
       "        vertical-align: middle;\n",
       "    }\n",
       "\n",
       "    .dataframe tbody tr th {\n",
       "        vertical-align: top;\n",
       "    }\n",
       "\n",
       "    .dataframe thead th {\n",
       "        text-align: right;\n",
       "    }\n",
       "</style>\n",
       "<table border=\"1\" class=\"dataframe\">\n",
       "  <thead>\n",
       "    <tr style=\"text-align: right;\">\n",
       "      <th></th>\n",
       "      <th>value</th>\n",
       "      <th>origin</th>\n",
       "      <th>number_of_changes</th>\n",
       "      <th>found_at</th>\n",
       "      <th>destination</th>\n",
       "      <th>depart_date</th>\n",
       "      <th>airline</th>\n",
       "      <th>search_date</th>\n",
       "    </tr>\n",
       "  </thead>\n",
       "  <tbody>\n",
       "    <tr>\n",
       "      <th>0</th>\n",
       "      <td>43270</td>\n",
       "      <td>MOW</td>\n",
       "      <td>2</td>\n",
       "      <td>2022-03-30 14:54:04</td>\n",
       "      <td>SYZ</td>\n",
       "      <td>2022-04-21</td>\n",
       "      <td>TK</td>\n",
       "      <td>2022-04-02</td>\n",
       "    </tr>\n",
       "    <tr>\n",
       "      <th>1</th>\n",
       "      <td>28166</td>\n",
       "      <td>MOW</td>\n",
       "      <td>3</td>\n",
       "      <td>2022-04-02 08:08:06</td>\n",
       "      <td>SPU</td>\n",
       "      <td>2022-04-25</td>\n",
       "      <td>W6</td>\n",
       "      <td>2022-04-02</td>\n",
       "    </tr>\n",
       "    <tr>\n",
       "      <th>2</th>\n",
       "      <td>24159</td>\n",
       "      <td>MOW</td>\n",
       "      <td>2</td>\n",
       "      <td>2022-04-01 09:23:26</td>\n",
       "      <td>SZF</td>\n",
       "      <td>2022-04-14</td>\n",
       "      <td>TK</td>\n",
       "      <td>2022-04-02</td>\n",
       "    </tr>\n",
       "    <tr>\n",
       "      <th>3</th>\n",
       "      <td>11160</td>\n",
       "      <td>MOW</td>\n",
       "      <td>1</td>\n",
       "      <td>2022-04-02 12:09:50</td>\n",
       "      <td>ABA</td>\n",
       "      <td>2022-04-12</td>\n",
       "      <td>S7</td>\n",
       "      <td>2022-04-02</td>\n",
       "    </tr>\n",
       "    <tr>\n",
       "      <th>4</th>\n",
       "      <td>19920</td>\n",
       "      <td>MOW</td>\n",
       "      <td>1</td>\n",
       "      <td>2022-04-02 12:44:34</td>\n",
       "      <td>CAI</td>\n",
       "      <td>2022-04-14</td>\n",
       "      <td>SU</td>\n",
       "      <td>2022-04-02</td>\n",
       "    </tr>\n",
       "  </tbody>\n",
       "</table>\n",
       "</div>"
      ],
      "text/plain": [
       "   value origin  number_of_changes            found_at destination  \\\n",
       "0  43270    MOW                  2 2022-03-30 14:54:04         SYZ   \n",
       "1  28166    MOW                  3 2022-04-02 08:08:06         SPU   \n",
       "2  24159    MOW                  2 2022-04-01 09:23:26         SZF   \n",
       "3  11160    MOW                  1 2022-04-02 12:09:50         ABA   \n",
       "4  19920    MOW                  1 2022-04-02 12:44:34         CAI   \n",
       "\n",
       "  depart_date airline search_date  \n",
       "0  2022-04-21      TK  2022-04-02  \n",
       "1  2022-04-25      W6  2022-04-02  \n",
       "2  2022-04-14      TK  2022-04-02  \n",
       "3  2022-04-12      S7  2022-04-02  \n",
       "4  2022-04-14      SU  2022-04-02  "
      ]
     },
     "execution_count": 47,
     "metadata": {},
     "output_type": "execute_result"
    }
   ],
   "source": [
    "tickets.head()"
   ]
  },
  {
   "cell_type": "code",
   "execution_count": 48,
   "metadata": {},
   "outputs": [
    {
     "data": {
      "text/plain": [
       "<Axes: xlabel='found_at', ylabel='Count'>"
      ]
     },
     "execution_count": 48,
     "metadata": {},
     "output_type": "execute_result"
    },
    {
     "data": {
      "image/png": "[encoded data removed]",
      "text/plain": [
       "<Figure size 640x480 with 1 Axes>"
      ]
     },
     "metadata": {},
     "output_type": "display_data"
    }
   ],
   "source": [
    "sns.histplot(data=tickets, x=\"found_at\")"
   ]
  },
  {
   "cell_type": "code",
   "execution_count": 49,
   "metadata": {},
   "outputs": [
    {
     "data": {
      "text/plain": [
       "<Axes: xlabel='search_date', ylabel='Count'>"
      ]
     },
     "execution_count": 49,
     "metadata": {},
     "output_type": "execute_result"
    },
    {
     "data": {
      "image/png": "[encoded data removed]",
      "text/plain": [
       "<Figure size 640x480 with 1 Axes>"
      ]
     },
     "metadata": {},
     "output_type": "display_data"
    }
   ],
   "source": [
    "sns.histplot(data=tickets, x=\"search_date\")"
   ]
  },
  {
   "cell_type": "code",
   "execution_count": 50,
   "metadata": {},
   "outputs": [
    {
     "data": {
      "text/plain": [
       "count                        106348\n",
       "mean     90 days 13:18:40.124064392\n",
       "std      68 days 10:35:12.242689840\n",
       "min               -1 days +06:02:18\n",
       "25%         34 days 14:38:00.500000\n",
       "50%                74 days 03:38:59\n",
       "75%               133 days 11:52:14\n",
       "max               330 days 11:01:35\n",
       "dtype: object"
      ]
     },
     "execution_count": 50,
     "metadata": {},
     "output_type": "execute_result"
    }
   ],
   "source": [
    "(tickets[\"depart_date\"] - tickets[\"found_at\"]).describe()"
   ]
  },
  {
   "cell_type": "code",
   "execution_count": 51,
   "metadata": {},
   "outputs": [],
   "source": [
    "tickets.drop(columns=[\"search_date\"], inplace=True)"
   ]
  },
  {
   "cell_type": "code",
   "execution_count": 52,
   "metadata": {},
   "outputs": [],
   "source": [
    "tickets = tickets[tickets[\"depart_date\"] > tickets[\"found_at\"]]"
   ]
  },
  {
   "cell_type": "code",
   "execution_count": 53,
   "metadata": {},
   "outputs": [
    {
     "data": {
      "text/html": [
       "<div>\n",
       "<style scoped>\n",
       "    .dataframe tbody tr th:only-of-type {\n",
       "        vertical-align: middle;\n",
       "    }\n",
       "\n",
       "    .dataframe tbody tr th {\n",
       "        vertical-align: top;\n",
       "    }\n",
       "\n",
       "    .dataframe thead th {\n",
       "        text-align: right;\n",
       "    }\n",
       "</style>\n",
       "<table border=\"1\" class=\"dataframe\">\n",
       "  <thead>\n",
       "    <tr style=\"text-align: right;\">\n",
       "      <th></th>\n",
       "      <th>value</th>\n",
       "      <th>origin</th>\n",
       "      <th>number_of_changes</th>\n",
       "      <th>found_at</th>\n",
       "      <th>destination</th>\n",
       "      <th>depart_date</th>\n",
       "      <th>airline</th>\n",
       "    </tr>\n",
       "  </thead>\n",
       "  <tbody>\n",
       "    <tr>\n",
       "      <th>0</th>\n",
       "      <td>43270</td>\n",
       "      <td>MOW</td>\n",
       "      <td>2</td>\n",
       "      <td>2022-03-30 14:54:04</td>\n",
       "      <td>SYZ</td>\n",
       "      <td>2022-04-21</td>\n",
       "      <td>TK</td>\n",
       "    </tr>\n",
       "    <tr>\n",
       "      <th>1</th>\n",
       "      <td>28166</td>\n",
       "      <td>MOW</td>\n",
       "      <td>3</td>\n",
       "      <td>2022-04-02 08:08:06</td>\n",
       "      <td>SPU</td>\n",
       "      <td>2022-04-25</td>\n",
       "      <td>W6</td>\n",
       "    </tr>\n",
       "    <tr>\n",
       "      <th>2</th>\n",
       "      <td>24159</td>\n",
       "      <td>MOW</td>\n",
       "      <td>2</td>\n",
       "      <td>2022-04-01 09:23:26</td>\n",
       "      <td>SZF</td>\n",
       "      <td>2022-04-14</td>\n",
       "      <td>TK</td>\n",
       "    </tr>\n",
       "    <tr>\n",
       "      <th>3</th>\n",
       "      <td>11160</td>\n",
       "      <td>MOW</td>\n",
       "      <td>1</td>\n",
       "      <td>2022-04-02 12:09:50</td>\n",
       "      <td>ABA</td>\n",
       "      <td>2022-04-12</td>\n",
       "      <td>S7</td>\n",
       "    </tr>\n",
       "    <tr>\n",
       "      <th>4</th>\n",
       "      <td>19920</td>\n",
       "      <td>MOW</td>\n",
       "      <td>1</td>\n",
       "      <td>2022-04-02 12:44:34</td>\n",
       "      <td>CAI</td>\n",
       "      <td>2022-04-14</td>\n",
       "      <td>SU</td>\n",
       "    </tr>\n",
       "    <tr>\n",
       "      <th>...</th>\n",
       "      <td>...</td>\n",
       "      <td>...</td>\n",
       "      <td>...</td>\n",
       "      <td>...</td>\n",
       "      <td>...</td>\n",
       "      <td>...</td>\n",
       "      <td>...</td>\n",
       "    </tr>\n",
       "    <tr>\n",
       "      <th>106343</th>\n",
       "      <td>13133</td>\n",
       "      <td>MOW</td>\n",
       "      <td>1</td>\n",
       "      <td>2022-02-09 18:04:57</td>\n",
       "      <td>KHV</td>\n",
       "      <td>2022-12-09</td>\n",
       "      <td>S7</td>\n",
       "    </tr>\n",
       "    <tr>\n",
       "      <th>106344</th>\n",
       "      <td>23341</td>\n",
       "      <td>MOW</td>\n",
       "      <td>1</td>\n",
       "      <td>2022-02-08 07:48:22</td>\n",
       "      <td>HKG</td>\n",
       "      <td>2022-12-28</td>\n",
       "      <td>TK</td>\n",
       "    </tr>\n",
       "    <tr>\n",
       "      <th>106345</th>\n",
       "      <td>44964</td>\n",
       "      <td>MOW</td>\n",
       "      <td>3</td>\n",
       "      <td>2022-02-04 19:42:10</td>\n",
       "      <td>PQC</td>\n",
       "      <td>2022-12-28</td>\n",
       "      <td>QR</td>\n",
       "    </tr>\n",
       "    <tr>\n",
       "      <th>106346</th>\n",
       "      <td>5830</td>\n",
       "      <td>MOW</td>\n",
       "      <td>0</td>\n",
       "      <td>2022-02-09 12:16:58</td>\n",
       "      <td>EVN</td>\n",
       "      <td>2022-12-06</td>\n",
       "      <td>S7</td>\n",
       "    </tr>\n",
       "    <tr>\n",
       "      <th>106347</th>\n",
       "      <td>13854</td>\n",
       "      <td>MOW</td>\n",
       "      <td>1</td>\n",
       "      <td>2022-02-05 15:05:31</td>\n",
       "      <td>PKC</td>\n",
       "      <td>2022-12-01</td>\n",
       "      <td>S7</td>\n",
       "    </tr>\n",
       "  </tbody>\n",
       "</table>\n",
       "<p>106190 rows × 7 columns</p>\n",
       "</div>"
      ],
      "text/plain": [
       "        value origin  number_of_changes            found_at destination  \\\n",
       "0       43270    MOW                  2 2022-03-30 14:54:04         SYZ   \n",
       "1       28166    MOW                  3 2022-04-02 08:08:06         SPU   \n",
       "2       24159    MOW                  2 2022-04-01 09:23:26         SZF   \n",
       "3       11160    MOW                  1 2022-04-02 12:09:50         ABA   \n",
       "4       19920    MOW                  1 2022-04-02 12:44:34         CAI   \n",
       "...       ...    ...                ...                 ...         ...   \n",
       "106343  13133    MOW                  1 2022-02-09 18:04:57         KHV   \n",
       "106344  23341    MOW                  1 2022-02-08 07:48:22         HKG   \n",
       "106345  44964    MOW                  3 2022-02-04 19:42:10         PQC   \n",
       "106346   5830    MOW                  0 2022-02-09 12:16:58         EVN   \n",
       "106347  13854    MOW                  1 2022-02-05 15:05:31         PKC   \n",
       "\n",
       "       depart_date airline  \n",
       "0       2022-04-21      TK  \n",
       "1       2022-04-25      W6  \n",
       "2       2022-04-14      TK  \n",
       "3       2022-04-12      S7  \n",
       "4       2022-04-14      SU  \n",
       "...            ...     ...  \n",
       "106343  2022-12-09      S7  \n",
       "106344  2022-12-28      TK  \n",
       "106345  2022-12-28      QR  \n",
       "106346  2022-12-06      S7  \n",
       "106347  2022-12-01      S7  \n",
       "\n",
       "[106190 rows x 7 columns]"
      ]
     },
     "execution_count": 53,
     "metadata": {},
     "output_type": "execute_result"
    }
   ],
   "source": [
    "tickets"
   ]
  },
  {
   "cell_type": "code",
   "execution_count": 54,
   "metadata": {},
   "outputs": [],
   "source": [
    "tickets[\"found_at_quarter\"] = tickets[\"found_at\"].dt.quarter\n",
    "tickets[\"found_at_month\"] = tickets[\"found_at\"].dt.month\n",
    "tickets[\"found_at_day\"] = tickets[\"found_at\"].dt.day\n",
    "tickets[\"found_at_weekday\"] = tickets[\"found_at\"].dt.weekday\n",
    "tickets[\"found_at_hour\"] = tickets[\"found_at\"].dt.hour"
   ]
  },
  {
   "cell_type": "code",
   "execution_count": 55,
   "metadata": {},
   "outputs": [],
   "source": [
    "tickets[\"depart_date_quarter\"] = tickets[\"depart_date\"].dt.quarter\n",
    "tickets[\"depart_date_month\"] = tickets[\"depart_date\"].dt.month\n",
    "tickets[\"depart_date_day\"] = tickets[\"depart_date\"].dt.day\n",
    "tickets[\"depart_date_weekday\"] = tickets[\"depart_date\"].dt.weekday\n",
    "tickets[\"depart_date_hour\"] = tickets[\"depart_date\"].dt.hour"
   ]
  },
  {
   "cell_type": "code",
   "execution_count": 56,
   "metadata": {},
   "outputs": [
    {
     "data": {
      "text/plain": [
       "<Axes: xlabel='found_at_weekday', ylabel='Count'>"
      ]
     },
     "execution_count": 56,
     "metadata": {},
     "output_type": "execute_result"
    },
    {
     "data": {
      "image/png": "[encoded data removed]",
      "text/plain": [
       "<Figure size 640x480 with 1 Axes>"
      ]
     },
     "metadata": {},
     "output_type": "display_data"
    }
   ],
   "source": [
    "sns.histplot(data=tickets, x=\"found_at_weekday\", bins=7)"
   ]
  },
  {
   "cell_type": "code",
   "execution_count": 57,
   "metadata": {},
   "outputs": [
    {
     "data": {
      "text/plain": [
       "<Axes: xlabel='found_at_day', ylabel='Count'>"
      ]
     },
     "execution_count": 57,
     "metadata": {},
     "output_type": "execute_result"
    },
    {
     "data": {
      "image/png": "[encoded data removed]",
      "text/plain": [
       "<Figure size 640x480 with 1 Axes>"
      ]
     },
     "metadata": {},
     "output_type": "display_data"
    }
   ],
   "source": [
    "sns.histplot(data=tickets, x=\"found_at_day\", bins=31)"
   ]
  },
  {
   "cell_type": "code",
   "execution_count": 58,
   "metadata": {},
   "outputs": [
    {
     "data": {
      "text/plain": [
       "count    106190.000000\n",
       "mean          2.539354\n",
       "std           0.718302\n",
       "min           1.000000\n",
       "25%           2.000000\n",
       "50%           2.000000\n",
       "75%           3.000000\n",
       "max           4.000000\n",
       "Name: depart_date_quarter, dtype: float64"
      ]
     },
     "execution_count": 58,
     "metadata": {},
     "output_type": "execute_result"
    }
   ],
   "source": [
    "tickets[\"depart_date_quarter\"].describe()"
   ]
  },
  {
   "cell_type": "code",
   "execution_count": 59,
   "metadata": {},
   "outputs": [
    {
     "data": {
      "text/plain": [
       "<Axes: xlabel='depart_date_quarter', ylabel='Count'>"
      ]
     },
     "execution_count": 59,
     "metadata": {},
     "output_type": "execute_result"
    },
    {
     "data": {
      "image/png": "[encoded data removed]",
      "text/plain": [
       "<Figure size 640x480 with 1 Axes>"
      ]
     },
     "metadata": {},
     "output_type": "display_data"
    }
   ],
   "source": [
    "sns.histplot(data=tickets, x=\"depart_date_quarter\", bins=4)"
   ]
  },
  {
   "cell_type": "code",
   "execution_count": 60,
   "metadata": {},
   "outputs": [
    {
     "data": {
      "text/plain": [
       "<Axes: xlabel='found_at_quarter', ylabel='Count'>"
      ]
     },
     "execution_count": 60,
     "metadata": {},
     "output_type": "execute_result"
    },
    {
     "data": {
      "image/png": "[encoded data removed]",
      "text/plain": [
       "<Figure size 640x480 with 1 Axes>"
      ]
     },
     "metadata": {},
     "output_type": "display_data"
    }
   ],
   "source": [
    "sns.histplot(data=tickets, x=\"found_at_quarter\", bins=4)"
   ]
  },
  {
   "cell_type": "code",
   "execution_count": 61,
   "metadata": {},
   "outputs": [
    {
     "data": {
      "text/plain": [
       "<Axes: xlabel='found_at_month', ylabel='Count'>"
      ]
     },
     "execution_count": 61,
     "metadata": {},
     "output_type": "execute_result"
    },
    {
     "data": {
      "image/png": "[encoded data removed]",
      "text/plain": [
       "<Figure size 640x480 with 1 Axes>"
      ]
     },
     "metadata": {},
     "output_type": "display_data"
    }
   ],
   "source": [
    "sns.histplot(data=tickets, x=\"found_at_month\", bins=12)"
   ]
  },
  {
   "cell_type": "code",
   "execution_count": 62,
   "metadata": {},
   "outputs": [
    {
     "data": {
      "text/plain": [
       "<Axes: xlabel='depart_date_month', ylabel='Count'>"
      ]
     },
     "execution_count": 62,
     "metadata": {},
     "output_type": "execute_result"
    },
    {
     "data": {
      "image/png": "[encoded data removed]",
      "text/plain": [
       "<Figure size 640x480 with 1 Axes>"
      ]
     },
     "metadata": {},
     "output_type": "display_data"
    }
   ],
   "source": [
    "sns.histplot(data=tickets, x=\"depart_date_month\", bins=12)"
   ]
  },
  {
   "cell_type": "code",
   "execution_count": 63,
   "metadata": {},
   "outputs": [],
   "source": [
    "tickets[\"diff_days\"] = (tickets[\"depart_date\"] - tickets[\"found_at\"]).dt.days"
   ]
  },
  {
   "cell_type": "code",
   "execution_count": 64,
   "metadata": {},
   "outputs": [
    {
     "data": {
      "text/plain": [
       "<Axes: xlabel='diff_days', ylabel='Count'>"
      ]
     },
     "execution_count": 64,
     "metadata": {},
     "output_type": "execute_result"
    },
    {
     "data": {
      "image/png": "[encoded data removed]",
      "text/plain": [
       "<Figure size 640x480 with 1 Axes>"
      ]
     },
     "metadata": {},
     "output_type": "display_data"
    }
   ],
   "source": [
    "sns.histplot(data=tickets, x=\"diff_days\", binwidth=1)"
   ]
  },
  {
   "cell_type": "code",
   "execution_count": 65,
   "metadata": {},
   "outputs": [
    {
     "data": {
      "text/html": [
       "<div>\n",
       "<style scoped>\n",
       "    .dataframe tbody tr th:only-of-type {\n",
       "        vertical-align: middle;\n",
       "    }\n",
       "\n",
       "    .dataframe tbody tr th {\n",
       "        vertical-align: top;\n",
       "    }\n",
       "\n",
       "    .dataframe thead th {\n",
       "        text-align: right;\n",
       "    }\n",
       "</style>\n",
       "<table border=\"1\" class=\"dataframe\">\n",
       "  <thead>\n",
       "    <tr style=\"text-align: right;\">\n",
       "      <th></th>\n",
       "      <th>value</th>\n",
       "      <th>origin</th>\n",
       "      <th>number_of_changes</th>\n",
       "      <th>found_at</th>\n",
       "      <th>destination</th>\n",
       "      <th>depart_date</th>\n",
       "      <th>airline</th>\n",
       "      <th>found_at_quarter</th>\n",
       "      <th>found_at_month</th>\n",
       "      <th>found_at_day</th>\n",
       "      <th>found_at_weekday</th>\n",
       "      <th>found_at_hour</th>\n",
       "      <th>depart_date_quarter</th>\n",
       "      <th>depart_date_month</th>\n",
       "      <th>depart_date_day</th>\n",
       "      <th>depart_date_weekday</th>\n",
       "      <th>depart_date_hour</th>\n",
       "      <th>diff_days</th>\n",
       "    </tr>\n",
       "  </thead>\n",
       "  <tbody>\n",
       "    <tr>\n",
       "      <th>0</th>\n",
       "      <td>43270</td>\n",
       "      <td>MOW</td>\n",
       "      <td>2</td>\n",
       "      <td>2022-03-30 14:54:04</td>\n",
       "      <td>SYZ</td>\n",
       "      <td>2022-04-21</td>\n",
       "      <td>TK</td>\n",
       "      <td>1</td>\n",
       "      <td>3</td>\n",
       "      <td>30</td>\n",
       "      <td>2</td>\n",
       "      <td>14</td>\n",
       "      <td>2</td>\n",
       "      <td>4</td>\n",
       "      <td>21</td>\n",
       "      <td>3</td>\n",
       "      <td>0</td>\n",
       "      <td>21</td>\n",
       "    </tr>\n",
       "    <tr>\n",
       "      <th>1</th>\n",
       "      <td>28166</td>\n",
       "      <td>MOW</td>\n",
       "      <td>3</td>\n",
       "      <td>2022-04-02 08:08:06</td>\n",
       "      <td>SPU</td>\n",
       "      <td>2022-04-25</td>\n",
       "      <td>W6</td>\n",
       "      <td>2</td>\n",
       "      <td>4</td>\n",
       "      <td>2</td>\n",
       "      <td>5</td>\n",
       "      <td>8</td>\n",
       "      <td>2</td>\n",
       "      <td>4</td>\n",
       "      <td>25</td>\n",
       "      <td>0</td>\n",
       "      <td>0</td>\n",
       "      <td>22</td>\n",
       "    </tr>\n",
       "    <tr>\n",
       "      <th>2</th>\n",
       "      <td>24159</td>\n",
       "      <td>MOW</td>\n",
       "      <td>2</td>\n",
       "      <td>2022-04-01 09:23:26</td>\n",
       "      <td>SZF</td>\n",
       "      <td>2022-04-14</td>\n",
       "      <td>TK</td>\n",
       "      <td>2</td>\n",
       "      <td>4</td>\n",
       "      <td>1</td>\n",
       "      <td>4</td>\n",
       "      <td>9</td>\n",
       "      <td>2</td>\n",
       "      <td>4</td>\n",
       "      <td>14</td>\n",
       "      <td>3</td>\n",
       "      <td>0</td>\n",
       "      <td>12</td>\n",
       "    </tr>\n",
       "    <tr>\n",
       "      <th>3</th>\n",
       "      <td>11160</td>\n",
       "      <td>MOW</td>\n",
       "      <td>1</td>\n",
       "      <td>2022-04-02 12:09:50</td>\n",
       "      <td>ABA</td>\n",
       "      <td>2022-04-12</td>\n",
       "      <td>S7</td>\n",
       "      <td>2</td>\n",
       "      <td>4</td>\n",
       "      <td>2</td>\n",
       "      <td>5</td>\n",
       "      <td>12</td>\n",
       "      <td>2</td>\n",
       "      <td>4</td>\n",
       "      <td>12</td>\n",
       "      <td>1</td>\n",
       "      <td>0</td>\n",
       "      <td>9</td>\n",
       "    </tr>\n",
       "    <tr>\n",
       "      <th>4</th>\n",
       "      <td>19920</td>\n",
       "      <td>MOW</td>\n",
       "      <td>1</td>\n",
       "      <td>2022-04-02 12:44:34</td>\n",
       "      <td>CAI</td>\n",
       "      <td>2022-04-14</td>\n",
       "      <td>SU</td>\n",
       "      <td>2</td>\n",
       "      <td>4</td>\n",
       "      <td>2</td>\n",
       "      <td>5</td>\n",
       "      <td>12</td>\n",
       "      <td>2</td>\n",
       "      <td>4</td>\n",
       "      <td>14</td>\n",
       "      <td>3</td>\n",
       "      <td>0</td>\n",
       "      <td>11</td>\n",
       "    </tr>\n",
       "    <tr>\n",
       "      <th>...</th>\n",
       "      <td>...</td>\n",
       "      <td>...</td>\n",
       "      <td>...</td>\n",
       "      <td>...</td>\n",
       "      <td>...</td>\n",
       "      <td>...</td>\n",
       "      <td>...</td>\n",
       "      <td>...</td>\n",
       "      <td>...</td>\n",
       "      <td>...</td>\n",
       "      <td>...</td>\n",
       "      <td>...</td>\n",
       "      <td>...</td>\n",
       "      <td>...</td>\n",
       "      <td>...</td>\n",
       "      <td>...</td>\n",
       "      <td>...</td>\n",
       "      <td>...</td>\n",
       "    </tr>\n",
       "    <tr>\n",
       "      <th>106343</th>\n",
       "      <td>13133</td>\n",
       "      <td>MOW</td>\n",
       "      <td>1</td>\n",
       "      <td>2022-02-09 18:04:57</td>\n",
       "      <td>KHV</td>\n",
       "      <td>2022-12-09</td>\n",
       "      <td>S7</td>\n",
       "      <td>1</td>\n",
       "      <td>2</td>\n",
       "      <td>9</td>\n",
       "      <td>2</td>\n",
       "      <td>18</td>\n",
       "      <td>4</td>\n",
       "      <td>12</td>\n",
       "      <td>9</td>\n",
       "      <td>4</td>\n",
       "      <td>0</td>\n",
       "      <td>302</td>\n",
       "    </tr>\n",
       "    <tr>\n",
       "      <th>106344</th>\n",
       "      <td>23341</td>\n",
       "      <td>MOW</td>\n",
       "      <td>1</td>\n",
       "      <td>2022-02-08 07:48:22</td>\n",
       "      <td>HKG</td>\n",
       "      <td>2022-12-28</td>\n",
       "      <td>TK</td>\n",
       "      <td>1</td>\n",
       "      <td>2</td>\n",
       "      <td>8</td>\n",
       "      <td>1</td>\n",
       "      <td>7</td>\n",
       "      <td>4</td>\n",
       "      <td>12</td>\n",
       "      <td>28</td>\n",
       "      <td>2</td>\n",
       "      <td>0</td>\n",
       "      <td>322</td>\n",
       "    </tr>\n",
       "    <tr>\n",
       "      <th>106345</th>\n",
       "      <td>44964</td>\n",
       "      <td>MOW</td>\n",
       "      <td>3</td>\n",
       "      <td>2022-02-04 19:42:10</td>\n",
       "      <td>PQC</td>\n",
       "      <td>2022-12-28</td>\n",
       "      <td>QR</td>\n",
       "      <td>1</td>\n",
       "      <td>2</td>\n",
       "      <td>4</td>\n",
       "      <td>4</td>\n",
       "      <td>19</td>\n",
       "      <td>4</td>\n",
       "      <td>12</td>\n",
       "      <td>28</td>\n",
       "      <td>2</td>\n",
       "      <td>0</td>\n",
       "      <td>326</td>\n",
       "    </tr>\n",
       "    <tr>\n",
       "      <th>106346</th>\n",
       "      <td>5830</td>\n",
       "      <td>MOW</td>\n",
       "      <td>0</td>\n",
       "      <td>2022-02-09 12:16:58</td>\n",
       "      <td>EVN</td>\n",
       "      <td>2022-12-06</td>\n",
       "      <td>S7</td>\n",
       "      <td>1</td>\n",
       "      <td>2</td>\n",
       "      <td>9</td>\n",
       "      <td>2</td>\n",
       "      <td>12</td>\n",
       "      <td>4</td>\n",
       "      <td>12</td>\n",
       "      <td>6</td>\n",
       "      <td>1</td>\n",
       "      <td>0</td>\n",
       "      <td>299</td>\n",
       "    </tr>\n",
       "    <tr>\n",
       "      <th>106347</th>\n",
       "      <td>13854</td>\n",
       "      <td>MOW</td>\n",
       "      <td>1</td>\n",
       "      <td>2022-02-05 15:05:31</td>\n",
       "      <td>PKC</td>\n",
       "      <td>2022-12-01</td>\n",
       "      <td>S7</td>\n",
       "      <td>1</td>\n",
       "      <td>2</td>\n",
       "      <td>5</td>\n",
       "      <td>5</td>\n",
       "      <td>15</td>\n",
       "      <td>4</td>\n",
       "      <td>12</td>\n",
       "      <td>1</td>\n",
       "      <td>3</td>\n",
       "      <td>0</td>\n",
       "      <td>298</td>\n",
       "    </tr>\n",
       "  </tbody>\n",
       "</table>\n",
       "<p>106190 rows × 18 columns</p>\n",
       "</div>"
      ],
      "text/plain": [
       "        value origin  number_of_changes            found_at destination  \\\n",
       "0       43270    MOW                  2 2022-03-30 14:54:04         SYZ   \n",
       "1       28166    MOW                  3 2022-04-02 08:08:06         SPU   \n",
       "2       24159    MOW                  2 2022-04-01 09:23:26         SZF   \n",
       "3       11160    MOW                  1 2022-04-02 12:09:50         ABA   \n",
       "4       19920    MOW                  1 2022-04-02 12:44:34         CAI   \n",
       "...       ...    ...                ...                 ...         ...   \n",
       "106343  13133    MOW                  1 2022-02-09 18:04:57         KHV   \n",
       "106344  23341    MOW                  1 2022-02-08 07:48:22         HKG   \n",
       "106345  44964    MOW                  3 2022-02-04 19:42:10         PQC   \n",
       "106346   5830    MOW                  0 2022-02-09 12:16:58         EVN   \n",
       "106347  13854    MOW                  1 2022-02-05 15:05:31         PKC   \n",
       "\n",
       "       depart_date airline  found_at_quarter  found_at_month  found_at_day  \\\n",
       "0       2022-04-21      TK                 1               3            30   \n",
       "1       2022-04-25      W6                 2               4             2   \n",
       "2       2022-04-14      TK                 2               4             1   \n",
       "3       2022-04-12      S7                 2               4             2   \n",
       "4       2022-04-14      SU                 2               4             2   \n",
       "...            ...     ...               ...             ...           ...   \n",
       "106343  2022-12-09      S7                 1               2             9   \n",
       "106344  2022-12-28      TK                 1               2             8   \n",
       "106345  2022-12-28      QR                 1               2             4   \n",
       "106346  2022-12-06      S7                 1               2             9   \n",
       "106347  2022-12-01      S7                 1               2             5   \n",
       "\n",
       "        found_at_weekday  found_at_hour  depart_date_quarter  \\\n",
       "0                      2             14                    2   \n",
       "1                      5              8                    2   \n",
       "2                      4              9                    2   \n",
       "3                      5             12                    2   \n",
       "4                      5             12                    2   \n",
       "...                  ...            ...                  ...   \n",
       "106343                 2             18                    4   \n",
       "106344                 1              7                    4   \n",
       "106345                 4             19                    4   \n",
       "106346                 2             12                    4   \n",
       "106347                 5             15                    4   \n",
       "\n",
       "        depart_date_month  depart_date_day  depart_date_weekday  \\\n",
       "0                       4               21                    3   \n",
       "1                       4               25                    0   \n",
       "2                       4               14                    3   \n",
       "3                       4               12                    1   \n",
       "4                       4               14                    3   \n",
       "...                   ...              ...                  ...   \n",
       "106343                 12                9                    4   \n",
       "106344                 12               28                    2   \n",
       "106345                 12               28                    2   \n",
       "106346                 12                6                    1   \n",
       "106347                 12                1                    3   \n",
       "\n",
       "        depart_date_hour  diff_days  \n",
       "0                      0         21  \n",
       "1                      0         22  \n",
       "2                      0         12  \n",
       "3                      0          9  \n",
       "4                      0         11  \n",
       "...                  ...        ...  \n",
       "106343                 0        302  \n",
       "106344                 0        322  \n",
       "106345                 0        326  \n",
       "106346                 0        299  \n",
       "106347                 0        298  \n",
       "\n",
       "[106190 rows x 18 columns]"
      ]
     },
     "execution_count": 65,
     "metadata": {},
     "output_type": "execute_result"
    }
   ],
   "source": [
    "tickets"
   ]
  },
  {
   "cell_type": "code",
   "execution_count": 66,
   "metadata": {},
   "outputs": [],
   "source": [
    "from sklearn import preprocessing"
   ]
  },
  {
   "cell_type": "code",
   "execution_count": 67,
   "metadata": {},
   "outputs": [],
   "source": [
    "standart_scaler = preprocessing.StandardScaler()\n",
    "min_max_scaler = preprocessing.MinMaxScaler()"
   ]
  },
  {
   "cell_type": "code",
   "execution_count": 69,
   "metadata": {},
   "outputs": [
    {
     "data": {
      "text/plain": [
       "<Axes: xlabel='value', ylabel='Density'>"
      ]
     },
     "execution_count": 69,
     "metadata": {},
     "output_type": "execute_result"
    },
    {
     "data": {
      "image/png": "[encoded data removed]",
      "text/plain": [
       "<Figure size 640x480 with 1 Axes>"
      ]
     },
     "metadata": {},
     "output_type": "display_data"
    }
   ],
   "source": [
    "sns.histplot(data=tickets, x=\"value\", stat=\"density\")"
   ]
  },
  {
   "cell_type": "code",
   "execution_count": null,
   "metadata": {},
   "outputs": [],
   "source": []
  },
  {
   "cell_type": "code",
   "execution_count": 94,
   "metadata": {},
   "outputs": [
    {
     "data": {
      "text/plain": [
       "<Axes: xlabel='number_of_changes', ylabel='Density'>"
      ]
     },
     "execution_count": 94,
     "metadata": {},
     "output_type": "execute_result"
    },
    {
     "data": {
      "image/png": "[encoded data removed]",
      "text/plain": [
       "<Figure size 640x480 with 1 Axes>"
      ]
     },
     "metadata": {},
     "output_type": "display_data"
    }
   ],
   "source": [
    "ax = plt.subplot()\n",
    "sns.histplot(ax=ax, data=tickets, x=\"number_of_changes\", stat=\"density\", binwidth=1)\n",
    "x = np.arange(6)\n",
    "sns.barplot(x=x, y=dist.pmf(x))"
   ]
  },
  {
   "cell_type": "code",
   "execution_count": 81,
   "metadata": {},
   "outputs": [],
   "source": [
    "from scipy import stats"
   ]
  },
  {
   "cell_type": "code",
   "execution_count": 82,
   "metadata": {},
   "outputs": [],
   "source": [
    "dist = stats.binom(n=5, p=tickets[\"number_of_changes\"].mean() / 5)"
   ]
  },
  {
   "cell_type": "code",
   "execution_count": null,
   "metadata": {},
   "outputs": [
    {
     "data": {
      "text/plain": [
       "np.float64(0.37202024741578593)"
      ]
     },
     "execution_count": 85,
     "metadata": {},
     "output_type": "execute_result"
    }
   ],
   "source": []
  },
  {
   "cell_type": "code",
   "execution_count": 80,
   "metadata": {},
   "outputs": [
    {
     "data": {
      "text/plain": [
       "(np.float64(1.4276014690648837), np.float64(0.9719432591335497))"
      ]
     },
     "execution_count": 80,
     "metadata": {},
     "output_type": "execute_result"
    }
   ],
   "source": [
    "tickets[\"number_of_changes\"].mean(), tickets[\"number_of_changes\"].std(ddof=0)"
   ]
  },
  {
   "cell_type": "code",
   "execution_count": 77,
   "metadata": {},
   "outputs": [],
   "source": [
    "p = tickets[\"number_of_changes\"].mean() / 5"
   ]
  },
  {
   "cell_type": "code",
   "execution_count": 78,
   "metadata": {},
   "outputs": [
    {
     "data": {
      "text/plain": [
       "np.float64(1.0199922781696407)"
      ]
     },
     "execution_count": 78,
     "metadata": {},
     "output_type": "execute_result"
    }
   ],
   "source": [
    "5 * p * (1 - p)"
   ]
  },
  {
   "cell_type": "code",
   "execution_count": null,
   "metadata": {},
   "outputs": [],
   "source": [
    "categorical_features = [\"origin\", \"destination\", \"airline\"]\n",
    "numerical_features = [\"value\", \"number_of_changes\", \"airline\"]"
   ]
  },
  {
   "cell_type": "code",
   "execution_count": 70,
   "metadata": {},
   "outputs": [
    {
     "data": {
      "text/html": [
       "<div>\n",
       "<style scoped>\n",
       "    .dataframe tbody tr th:only-of-type {\n",
       "        vertical-align: middle;\n",
       "    }\n",
       "\n",
       "    .dataframe tbody tr th {\n",
       "        vertical-align: top;\n",
       "    }\n",
       "\n",
       "    .dataframe thead th {\n",
       "        text-align: right;\n",
       "    }\n",
       "</style>\n",
       "<table border=\"1\" class=\"dataframe\">\n",
       "  <thead>\n",
       "    <tr style=\"text-align: right;\">\n",
       "      <th></th>\n",
       "      <th>value</th>\n",
       "      <th>origin</th>\n",
       "      <th>number_of_changes</th>\n",
       "      <th>found_at</th>\n",
       "      <th>destination</th>\n",
       "      <th>depart_date</th>\n",
       "      <th>airline</th>\n",
       "      <th>found_at_quarter</th>\n",
       "      <th>found_at_month</th>\n",
       "      <th>found_at_day</th>\n",
       "      <th>found_at_weekday</th>\n",
       "      <th>found_at_hour</th>\n",
       "      <th>depart_date_quarter</th>\n",
       "      <th>depart_date_month</th>\n",
       "      <th>depart_date_day</th>\n",
       "      <th>depart_date_weekday</th>\n",
       "      <th>depart_date_hour</th>\n",
       "      <th>diff_days</th>\n",
       "    </tr>\n",
       "  </thead>\n",
       "  <tbody>\n",
       "    <tr>\n",
       "      <th>0</th>\n",
       "      <td>43270</td>\n",
       "      <td>MOW</td>\n",
       "      <td>2</td>\n",
       "      <td>2022-03-30 14:54:04</td>\n",
       "      <td>SYZ</td>\n",
       "      <td>2022-04-21</td>\n",
       "      <td>TK</td>\n",
       "      <td>1</td>\n",
       "      <td>3</td>\n",
       "      <td>30</td>\n",
       "      <td>2</td>\n",
       "      <td>14</td>\n",
       "      <td>2</td>\n",
       "      <td>4</td>\n",
       "      <td>21</td>\n",
       "      <td>3</td>\n",
       "      <td>0</td>\n",
       "      <td>21</td>\n",
       "    </tr>\n",
       "    <tr>\n",
       "      <th>1</th>\n",
       "      <td>28166</td>\n",
       "      <td>MOW</td>\n",
       "      <td>3</td>\n",
       "      <td>2022-04-02 08:08:06</td>\n",
       "      <td>SPU</td>\n",
       "      <td>2022-04-25</td>\n",
       "      <td>W6</td>\n",
       "      <td>2</td>\n",
       "      <td>4</td>\n",
       "      <td>2</td>\n",
       "      <td>5</td>\n",
       "      <td>8</td>\n",
       "      <td>2</td>\n",
       "      <td>4</td>\n",
       "      <td>25</td>\n",
       "      <td>0</td>\n",
       "      <td>0</td>\n",
       "      <td>22</td>\n",
       "    </tr>\n",
       "    <tr>\n",
       "      <th>2</th>\n",
       "      <td>24159</td>\n",
       "      <td>MOW</td>\n",
       "      <td>2</td>\n",
       "      <td>2022-04-01 09:23:26</td>\n",
       "      <td>SZF</td>\n",
       "      <td>2022-04-14</td>\n",
       "      <td>TK</td>\n",
       "      <td>2</td>\n",
       "      <td>4</td>\n",
       "      <td>1</td>\n",
       "      <td>4</td>\n",
       "      <td>9</td>\n",
       "      <td>2</td>\n",
       "      <td>4</td>\n",
       "      <td>14</td>\n",
       "      <td>3</td>\n",
       "      <td>0</td>\n",
       "      <td>12</td>\n",
       "    </tr>\n",
       "    <tr>\n",
       "      <th>3</th>\n",
       "      <td>11160</td>\n",
       "      <td>MOW</td>\n",
       "      <td>1</td>\n",
       "      <td>2022-04-02 12:09:50</td>\n",
       "      <td>ABA</td>\n",
       "      <td>2022-04-12</td>\n",
       "      <td>S7</td>\n",
       "      <td>2</td>\n",
       "      <td>4</td>\n",
       "      <td>2</td>\n",
       "      <td>5</td>\n",
       "      <td>12</td>\n",
       "      <td>2</td>\n",
       "      <td>4</td>\n",
       "      <td>12</td>\n",
       "      <td>1</td>\n",
       "      <td>0</td>\n",
       "      <td>9</td>\n",
       "    </tr>\n",
       "    <tr>\n",
       "      <th>4</th>\n",
       "      <td>19920</td>\n",
       "      <td>MOW</td>\n",
       "      <td>1</td>\n",
       "      <td>2022-04-02 12:44:34</td>\n",
       "      <td>CAI</td>\n",
       "      <td>2022-04-14</td>\n",
       "      <td>SU</td>\n",
       "      <td>2</td>\n",
       "      <td>4</td>\n",
       "      <td>2</td>\n",
       "      <td>5</td>\n",
       "      <td>12</td>\n",
       "      <td>2</td>\n",
       "      <td>4</td>\n",
       "      <td>14</td>\n",
       "      <td>3</td>\n",
       "      <td>0</td>\n",
       "      <td>11</td>\n",
       "    </tr>\n",
       "    <tr>\n",
       "      <th>...</th>\n",
       "      <td>...</td>\n",
       "      <td>...</td>\n",
       "      <td>...</td>\n",
       "      <td>...</td>\n",
       "      <td>...</td>\n",
       "      <td>...</td>\n",
       "      <td>...</td>\n",
       "      <td>...</td>\n",
       "      <td>...</td>\n",
       "      <td>...</td>\n",
       "      <td>...</td>\n",
       "      <td>...</td>\n",
       "      <td>...</td>\n",
       "      <td>...</td>\n",
       "      <td>...</td>\n",
       "      <td>...</td>\n",
       "      <td>...</td>\n",
       "      <td>...</td>\n",
       "    </tr>\n",
       "    <tr>\n",
       "      <th>106343</th>\n",
       "      <td>13133</td>\n",
       "      <td>MOW</td>\n",
       "      <td>1</td>\n",
       "      <td>2022-02-09 18:04:57</td>\n",
       "      <td>KHV</td>\n",
       "      <td>2022-12-09</td>\n",
       "      <td>S7</td>\n",
       "      <td>1</td>\n",
       "      <td>2</td>\n",
       "      <td>9</td>\n",
       "      <td>2</td>\n",
       "      <td>18</td>\n",
       "      <td>4</td>\n",
       "      <td>12</td>\n",
       "      <td>9</td>\n",
       "      <td>4</td>\n",
       "      <td>0</td>\n",
       "      <td>302</td>\n",
       "    </tr>\n",
       "    <tr>\n",
       "      <th>106344</th>\n",
       "      <td>23341</td>\n",
       "      <td>MOW</td>\n",
       "      <td>1</td>\n",
       "      <td>2022-02-08 07:48:22</td>\n",
       "      <td>HKG</td>\n",
       "      <td>2022-12-28</td>\n",
       "      <td>TK</td>\n",
       "      <td>1</td>\n",
       "      <td>2</td>\n",
       "      <td>8</td>\n",
       "      <td>1</td>\n",
       "      <td>7</td>\n",
       "      <td>4</td>\n",
       "      <td>12</td>\n",
       "      <td>28</td>\n",
       "      <td>2</td>\n",
       "      <td>0</td>\n",
       "      <td>322</td>\n",
       "    </tr>\n",
       "    <tr>\n",
       "      <th>106345</th>\n",
       "      <td>44964</td>\n",
       "      <td>MOW</td>\n",
       "      <td>3</td>\n",
       "      <td>2022-02-04 19:42:10</td>\n",
       "      <td>PQC</td>\n",
       "      <td>2022-12-28</td>\n",
       "      <td>QR</td>\n",
       "      <td>1</td>\n",
       "      <td>2</td>\n",
       "      <td>4</td>\n",
       "      <td>4</td>\n",
       "      <td>19</td>\n",
       "      <td>4</td>\n",
       "      <td>12</td>\n",
       "      <td>28</td>\n",
       "      <td>2</td>\n",
       "      <td>0</td>\n",
       "      <td>326</td>\n",
       "    </tr>\n",
       "    <tr>\n",
       "      <th>106346</th>\n",
       "      <td>5830</td>\n",
       "      <td>MOW</td>\n",
       "      <td>0</td>\n",
       "      <td>2022-02-09 12:16:58</td>\n",
       "      <td>EVN</td>\n",
       "      <td>2022-12-06</td>\n",
       "      <td>S7</td>\n",
       "      <td>1</td>\n",
       "      <td>2</td>\n",
       "      <td>9</td>\n",
       "      <td>2</td>\n",
       "      <td>12</td>\n",
       "      <td>4</td>\n",
       "      <td>12</td>\n",
       "      <td>6</td>\n",
       "      <td>1</td>\n",
       "      <td>0</td>\n",
       "      <td>299</td>\n",
       "    </tr>\n",
       "    <tr>\n",
       "      <th>106347</th>\n",
       "      <td>13854</td>\n",
       "      <td>MOW</td>\n",
       "      <td>1</td>\n",
       "      <td>2022-02-05 15:05:31</td>\n",
       "      <td>PKC</td>\n",
       "      <td>2022-12-01</td>\n",
       "      <td>S7</td>\n",
       "      <td>1</td>\n",
       "      <td>2</td>\n",
       "      <td>5</td>\n",
       "      <td>5</td>\n",
       "      <td>15</td>\n",
       "      <td>4</td>\n",
       "      <td>12</td>\n",
       "      <td>1</td>\n",
       "      <td>3</td>\n",
       "      <td>0</td>\n",
       "      <td>298</td>\n",
       "    </tr>\n",
       "  </tbody>\n",
       "</table>\n",
       "<p>106190 rows × 18 columns</p>\n",
       "</div>"
      ],
      "text/plain": [
       "        value origin  number_of_changes            found_at destination  \\\n",
       "0       43270    MOW                  2 2022-03-30 14:54:04         SYZ   \n",
       "1       28166    MOW                  3 2022-04-02 08:08:06         SPU   \n",
       "2       24159    MOW                  2 2022-04-01 09:23:26         SZF   \n",
       "3       11160    MOW                  1 2022-04-02 12:09:50         ABA   \n",
       "4       19920    MOW                  1 2022-04-02 12:44:34         CAI   \n",
       "...       ...    ...                ...                 ...         ...   \n",
       "106343  13133    MOW                  1 2022-02-09 18:04:57         KHV   \n",
       "106344  23341    MOW                  1 2022-02-08 07:48:22         HKG   \n",
       "106345  44964    MOW                  3 2022-02-04 19:42:10         PQC   \n",
       "106346   5830    MOW                  0 2022-02-09 12:16:58         EVN   \n",
       "106347  13854    MOW                  1 2022-02-05 15:05:31         PKC   \n",
       "\n",
       "       depart_date airline  found_at_quarter  found_at_month  found_at_day  \\\n",
       "0       2022-04-21      TK                 1               3            30   \n",
       "1       2022-04-25      W6                 2               4             2   \n",
       "2       2022-04-14      TK                 2               4             1   \n",
       "3       2022-04-12      S7                 2               4             2   \n",
       "4       2022-04-14      SU                 2               4             2   \n",
       "...            ...     ...               ...             ...           ...   \n",
       "106343  2022-12-09      S7                 1               2             9   \n",
       "106344  2022-12-28      TK                 1               2             8   \n",
       "106345  2022-12-28      QR                 1               2             4   \n",
       "106346  2022-12-06      S7                 1               2             9   \n",
       "106347  2022-12-01      S7                 1               2             5   \n",
       "\n",
       "        found_at_weekday  found_at_hour  depart_date_quarter  \\\n",
       "0                      2             14                    2   \n",
       "1                      5              8                    2   \n",
       "2                      4              9                    2   \n",
       "3                      5             12                    2   \n",
       "4                      5             12                    2   \n",
       "...                  ...            ...                  ...   \n",
       "106343                 2             18                    4   \n",
       "106344                 1              7                    4   \n",
       "106345                 4             19                    4   \n",
       "106346                 2             12                    4   \n",
       "106347                 5             15                    4   \n",
       "\n",
       "        depart_date_month  depart_date_day  depart_date_weekday  \\\n",
       "0                       4               21                    3   \n",
       "1                       4               25                    0   \n",
       "2                       4               14                    3   \n",
       "3                       4               12                    1   \n",
       "4                       4               14                    3   \n",
       "...                   ...              ...                  ...   \n",
       "106343                 12                9                    4   \n",
       "106344                 12               28                    2   \n",
       "106345                 12               28                    2   \n",
       "106346                 12                6                    1   \n",
       "106347                 12                1                    3   \n",
       "\n",
       "        depart_date_hour  diff_days  \n",
       "0                      0         21  \n",
       "1                      0         22  \n",
       "2                      0         12  \n",
       "3                      0          9  \n",
       "4                      0         11  \n",
       "...                  ...        ...  \n",
       "106343                 0        302  \n",
       "106344                 0        322  \n",
       "106345                 0        326  \n",
       "106346                 0        299  \n",
       "106347                 0        298  \n",
       "\n",
       "[106190 rows x 18 columns]"
      ]
     },
     "execution_count": 70,
     "metadata": {},
     "output_type": "execute_result"
    }
   ],
   "source": [
    "tickets"
   ]
  }
 ],
 "metadata": {
  "kernelspec": {
   "display_name": ".venv",
   "language": "python",
   "name": "python3"
  },
  "language_info": {
   "codemirror_mode": {
    "name": "ipython",
    "version": 3
   },
   "file_extension": ".py",
   "mimetype": "text/x-python",
   "name": "python",
   "nbconvert_exporter": "python",
   "pygments_lexer": "ipython3",
   "version": "3.12.8"
  }
 },
 "nbformat": 4,
 "nbformat_minor": 2
}
